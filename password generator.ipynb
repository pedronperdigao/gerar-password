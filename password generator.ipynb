{
 "cells": [
  {
   "cell_type": "code",
   "execution_count": 9,
   "id": "206f700c",
   "metadata": {},
   "outputs": [
    {
     "name": "stdout",
     "output_type": "stream",
     "text": [
      "Nº de caracteres da password: 8\n",
      "Ei4Dk`R~\n"
     ]
    }
   ],
   "source": [
    "import random\n",
    "import string\n",
    "\n",
    "#informação a considerar\n",
    "\n",
    "low=string.ascii_lowercase\n",
    "up=string.ascii_uppercase\n",
    "num=string.digits\n",
    "spe=string.punctuation\n",
    "\n",
    "#combinar todos\n",
    "\n",
    "all=low+up+num+spe\n",
    "\n",
    "\n",
    "#cumprimento da password, escolhida e interagida com utilizador\n",
    "\n",
    "length=int(input('Nº de caracteres da password: '))\n",
    "\n",
    "\n",
    "#escolha aleatória\n",
    "\n",
    "temp=random.sample(all, length)\n",
    "\n",
    "\n",
    "#criar a password\n",
    "\n",
    "password=\"\".join(temp)\n",
    "\n",
    "#password visivel\n",
    "\n",
    "print(password)"
   ]
  }
 ],
 "metadata": {
  "kernelspec": {
   "display_name": "Python 3 (ipykernel)",
   "language": "python",
   "name": "python3"
  },
  "language_info": {
   "codemirror_mode": {
    "name": "ipython",
    "version": 3
   },
   "file_extension": ".py",
   "mimetype": "text/x-python",
   "name": "python",
   "nbconvert_exporter": "python",
   "pygments_lexer": "ipython3",
   "version": "3.9.7"
  }
 },
 "nbformat": 4,
 "nbformat_minor": 5
}
